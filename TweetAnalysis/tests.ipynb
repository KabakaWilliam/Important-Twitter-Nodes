{
 "cells": [
  {
   "cell_type": "code",
   "execution_count": 11,
   "metadata": {},
   "outputs": [],
   "source": [
    "import pandas as pd\n",
    "import networkx as nx\n",
    "from collections import Counter \n",
    "import matplotlib.pyplot as plt"
   ]
  },
  {
   "cell_type": "code",
   "execution_count": 23,
   "metadata": {},
   "outputs": [
    {
     "name": "stderr",
     "output_type": "stream",
     "text": [
      "/Users/wgl8723/Desktop/15-112/finalProject/.venv/lib/python3.7/site-packages/pandas/util/_decorators.py:311: SettingWithCopyWarning: \n",
      "A value is trying to be set on a copy of a slice from a DataFrame\n",
      "\n",
      "See the caveats in the documentation: https://pandas.pydata.org/pandas-docs/stable/user_guide/indexing.html#returning-a-view-versus-a-copy\n",
      "  return func(*args, **kwargs)\n"
     ]
    },
    {
     "data": {
      "text/plain": [
       "array([False])"
      ]
     },
     "execution_count": 23,
     "metadata": {},
     "output_type": "execute_result"
    }
   ],
   "source": [
    "data = pd.read_csv(\"../Kanye.csv\", lineterminator='\\n') #add lineterminator to remove bug with large csv files \n",
    "user = data[['username', 'description', 'following',\n",
    " 'followers', 'totaltweets', 'accountCreatedAt', 'accountID', \"tweetID\"]]\n",
    "tweet = data[['location', 'retweetcount', 'text',\n",
    " 'hashtags', 'username', \"tweetID\"]]\n",
    "\n",
    "user.drop_duplicates(subset=\"username\",inplace=True)\n",
    "user.username.duplicated().unique()"
   ]
  },
  {
   "cell_type": "code",
   "execution_count": 24,
   "metadata": {},
   "outputs": [],
   "source": [
    "def getMentionedUsers(s):\n",
    "    foundAt= False\n",
    "    mentioned = []\n",
    "    store = \"\"\n",
    "    for i in range(len(s)):\n",
    "        if s[i] == \"@\": #a user is mentioned whenever we see @\n",
    "            foundAt = True\n",
    "            start = i\n",
    "            while start != len(s) and  s[start]!= \" \" and s[start] != \".\" :\n",
    "                store += s[start]\n",
    "                start += 1\n",
    "            store = store[1:]\n",
    "            mentioned.append(store)\n",
    "            store = \"\"\n",
    "    return mentioned\n",
    "    \n",
    "def createAdjecencyDictionary(tweetDataframe):\n",
    "    # will build adjecency dictionary in the form:\n",
    "    # {tweetAuthor1: [@user1, @user2, @user3, @user4, @user5, @user6]}\n",
    "    # create graph of tweet author here.\n",
    "    adjecencyDictionary=dict()\n",
    "    for ind in tweetDataframe.index:\n",
    "        if '@' in tweetDataframe['text'][ind]:\n",
    "            store = \"\"\n",
    "            \n",
    "            for e in tweetDataframe['text'][ind]:\n",
    "\n",
    "                if e=='@':\n",
    "                    store += e\n",
    "\n",
    "            adjecencyDictionary[tweetDataframe[\"username\"][ind]] = getMentionedUsers(tweet['text'][ind])\n",
    "    return adjecencyDictionary"
   ]
  },
  {
   "cell_type": "code",
   "execution_count": 25,
   "metadata": {},
   "outputs": [],
   "source": [
    "# turn tweet dataframe into dictionary\n",
    "tweetAdjDictionary = createAdjecencyDictionary(tweet)\n",
    "\n",
    "# create graph of tweet author to their mentions.\n",
    "tweetGraph = nx.Graph(tweetAdjDictionary)"
   ]
  },
  {
   "cell_type": "code",
   "execution_count": 26,
   "metadata": {},
   "outputs": [
    {
     "name": "stdout",
     "output_type": "stream",
     "text": [
      "Graph with 2 nodes and 1 edges\n",
      "Graph with 2 nodes and 1 edges\n",
      "Graph with 2 nodes and 1 edges\n",
      "Graph with 4 nodes and 3 edges\n",
      "Graph with 3 nodes and 2 edges\n",
      "Graph with 2 nodes and 1 edges\n",
      "Graph with 2 nodes and 1 edges\n",
      "Graph with 3 nodes and 2 edges\n",
      "Graph with 5 nodes and 4 edges\n",
      "Graph with 2 nodes and 1 edges\n",
      "Graph with 2 nodes and 1 edges\n",
      "Graph with 2 nodes and 1 edges\n",
      "Graph with 9 nodes and 8 edges\n",
      "Graph with 2 nodes and 1 edges\n",
      "Graph with 2 nodes and 1 edges\n",
      "Graph with 3 nodes and 2 edges\n",
      "Graph with 2 nodes and 1 edges\n",
      "Graph with 2 nodes and 1 edges\n",
      "Graph with 3 nodes and 2 edges\n",
      "Graph with 2 nodes and 1 edges\n",
      "Graph with 2 nodes and 1 edges\n",
      "Graph with 2 nodes and 1 edges\n",
      "Graph with 2 nodes and 1 edges\n",
      "Graph with 2 nodes and 1 edges\n",
      "Graph with 2 nodes and 1 edges\n",
      "Graph with 3 nodes and 2 edges\n",
      "Graph with 1 nodes and 1 edges\n",
      "Graph with 3 nodes and 2 edges\n",
      "Graph with 2 nodes and 1 edges\n",
      "Graph with 2 nodes and 1 edges\n",
      "Graph with 3 nodes and 2 edges\n",
      "Graph with 4 nodes and 3 edges\n",
      "Graph with 2 nodes and 1 edges\n",
      "Graph with 4 nodes and 3 edges\n",
      "Graph with 2 nodes and 1 edges\n",
      "Graph with 2 nodes and 1 edges\n",
      "Graph with 2 nodes and 1 edges\n",
      "Graph with 2 nodes and 1 edges\n",
      "Graph with 2 nodes and 1 edges\n",
      "Graph with 2 nodes and 1 edges\n",
      "Graph with 3 nodes and 2 edges\n",
      "Graph with 2 nodes and 1 edges\n"
     ]
    }
   ],
   "source": [
    "for c in nx.connected_components(tweetGraph):\n",
    "    print(tweetGraph.subgraph(c))\n"
   ]
  },
  {
   "cell_type": "code",
   "execution_count": 20,
   "metadata": {},
   "outputs": [
    {
     "ename": "TypeError",
     "evalue": "'generator' object is not subscriptable",
     "output_type": "error",
     "traceback": [
      "\u001b[0;31m---------------------------------------------------------------------------\u001b[0m",
      "\u001b[0;31mTypeError\u001b[0m                                 Traceback (most recent call last)",
      "\u001b[0;32m/var/folders/_p/2d7d49_n60s0bh5zjmv7ynq00000gq/T/ipykernel_84374/2994281748.py\u001b[0m in \u001b[0;36m<module>\u001b[0;34m\u001b[0m\n\u001b[0;32m----> 1\u001b[0;31m \u001b[0msub\u001b[0m\u001b[0;34m[\u001b[0m\u001b[0;36m0\u001b[0m\u001b[0;34m]\u001b[0m\u001b[0;34m\u001b[0m\u001b[0;34m\u001b[0m\u001b[0m\n\u001b[0m",
      "\u001b[0;31mTypeError\u001b[0m: 'generator' object is not subscriptable"
     ]
    }
   ],
   "source": []
  },
  {
   "cell_type": "code",
   "execution_count": null,
   "metadata": {},
   "outputs": [],
   "source": []
  }
 ],
 "metadata": {
  "kernelspec": {
   "display_name": "Python 3.7.9 ('.venv': venv)",
   "language": "python",
   "name": "python3"
  },
  "language_info": {
   "codemirror_mode": {
    "name": "ipython",
    "version": 3
   },
   "file_extension": ".py",
   "mimetype": "text/x-python",
   "name": "python",
   "nbconvert_exporter": "python",
   "pygments_lexer": "ipython3",
   "version": "3.7.9"
  },
  "orig_nbformat": 4,
  "vscode": {
   "interpreter": {
    "hash": "7a82a48207b127fbe0acf707326522cd9377ec47568a95476c0f2c8b16bc9aca"
   }
  }
 },
 "nbformat": 4,
 "nbformat_minor": 2
}
